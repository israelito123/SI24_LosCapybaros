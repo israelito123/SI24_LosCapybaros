{
 "cells": [
  {
   "attachments": {},
   "cell_type": "markdown",
   "metadata": {},
   "source": [
    "## Descenso de gradiente para regresión lineal\n",
    "\n",
    "En el ejercicio anterior aprendiste regresión lineal y encontraste una solución analítica a través de algebra lineal, ahora resolveremos el mismo problema llegando a la solución de manera iterativa. \n",
    "\n",
    "En la práctica, descenso de gradiente se utiliza en problemas en los que obtener una solución analítica no es posible como regresión logística o redes neuronales."
   ]
  },
  {
   "cell_type": "code",
   "execution_count": 20,
   "metadata": {},
   "outputs": [
    {
     "name": "stdout",
     "output_type": "stream",
     "text": [
      "(200, 2) (100, 2)\n"
     ]
    },
    {
     "data": {
      "text/plain": [
       "<matplotlib.collections.PathCollection at 0x11a83a650>"
      ]
     },
     "execution_count": 20,
     "metadata": {},
     "output_type": "execute_result"
    },
    {
     "data": {
      "image/png": "[encoded data removed]",
      "text/plain": [
       "<Figure size 432x288 with 1 Axes>"
      ]
     },
     "metadata": {
      "needs_background": "light"
     },
     "output_type": "display_data"
    }
   ],
   "source": [
    "%matplotlib inline\n",
    "import numpy as np\n",
    "import matplotlib.pyplot as plt\n",
    "\n",
    "# Nuevamente generamos los datos aleatorios con una desviación estandar conocida\n",
    "# Alrededor de una funcion lineal conocida y = 1.2x + 0.7\n",
    "n_samples = 300\n",
    "ruido_blanco_std = 2\n",
    "X = np.random.randn(n_samples, 1)\n",
    "for_bias = np.ones([n_samples, 1])\n",
    "X_augmented = np.concatenate([for_bias, X], axis=-1)\n",
    "eps = np.random.randn(n_samples, 1) * ruido_blanco_std\n",
    "ideal_w = [[5], [1.2]]\n",
    "target_y = X_augmented @ ideal_w + eps\n",
    "\n",
    "# Dividir en entrenamiento y validación\n",
    "n_val_dp = n_samples//3\n",
    "x_train = X_augmented[:-n_val_dp,:]\n",
    "y_train = target_y[:-n_val_dp]\n",
    "\n",
    "x_val = X_augmented[-n_val_dp:,:]\n",
    "y_val = target_y[-n_val_dp:]\n",
    "\n",
    "print(x_train.shape, x_val.shape)\n",
    "# Graficar set de entrenamiento\n",
    "plt.scatter(x_train[:,-1], y_train)"
   ]
  },
  {
   "attachments": {},
   "cell_type": "markdown",
   "metadata": {},
   "source": [
    "## Función de costo\n",
    "Ya que hemos cargado el dataset y sabemos como está compuesto, debemos calcular la función de costo\n",
    "\n",
    "$ MSE = J(w) = \\frac{1}{2n} \\sum_{i=1}^{n} (\\hat{Y}_i - Y_i)^2 $"
   ]
  },
  {
   "cell_type": "code",
   "execution_count": 21,
   "metadata": {},
   "outputs": [],
   "source": [
    "def mse_loss(y, y_pred):\n",
    "    \"\"\"\n",
    "        Regresa el error cuadrático promedio de todas las predicciones\n",
    "        y: shape=N Etiquetas\n",
    "        y_pred: predicciones del modelo\n",
    "    \"\"\"\n",
    "    # TODO: Calcula el resultado de la función de costo\n",
    "    # ====== Start of solution =====\n",
    "    #ESTOY USANDO LA FORMULA DE ARRIBA\n",
    "    loss = 0\n",
    "    for index in range (len(y_pred)):\n",
    "        loss+= np.square((y_pred[index]-y[index]))\n",
    "\n",
    "    return loss*(1/(2*(len(y_pred))))\n",
    "    \n",
    "    # ====== End of solution =====\n",
    "\n",
    "# Iniciamos con unos parametros w arbitrarios\n",
    "w = np.random.uniform(-10, 10, size=(2, 1))\n",
    "\n",
    "# TODO: Calcula las preddiciones para el conjunto de entrenamiento x_train\n",
    "y_pred = np.dot(x_train, w)\n",
    "\n",
    "# TODO: Calcula la función de costo para las predicciones(y_pred) y los valores reales (y_train)\n",
    "# ====== Start of solution =====\n",
    "loss = mse_loss(y_train, y_pred)\n",
    "# ====== End of solution ====="
   ]
  },
  {
   "attachments": {},
   "cell_type": "markdown",
   "metadata": {},
   "source": [
    "Podemos visualizar como se ve la función de costo con diferentes pesos.\n",
    "Si elegimos los pesos que generan el menor costo en el set habremos encontrado los parametros ideales para este problema."
   ]
  },
  {
   "cell_type": "code",
   "execution_count": 22,
   "metadata": {},
   "outputs": [
    {
     "ename": "ValueError",
     "evalue": "Unknown projection '3d'",
     "output_type": "error",
     "traceback": [
      "\u001b[0;31m---------------------------------------------------------------------------\u001b[0m",
      "\u001b[0;31mKeyError\u001b[0m                                  Traceback (most recent call last)",
      "\u001b[0;32m/opt/anaconda3/lib/python3.7/site-packages/matplotlib/projections/__init__.py\u001b[0m in \u001b[0;36mget_projection_class\u001b[0;34m(projection)\u001b[0m\n\u001b[1;32m     57\u001b[0m     \u001b[0;32mtry\u001b[0m\u001b[0;34m:\u001b[0m\u001b[0;34m\u001b[0m\u001b[0;34m\u001b[0m\u001b[0m\n\u001b[0;32m---> 58\u001b[0;31m         \u001b[0;32mreturn\u001b[0m \u001b[0mprojection_registry\u001b[0m\u001b[0;34m.\u001b[0m\u001b[0mget_projection_class\u001b[0m\u001b[0;34m(\u001b[0m\u001b[0mprojection\u001b[0m\u001b[0;34m)\u001b[0m\u001b[0;34m\u001b[0m\u001b[0;34m\u001b[0m\u001b[0m\n\u001b[0m\u001b[1;32m     59\u001b[0m     \u001b[0;32mexcept\u001b[0m \u001b[0mKeyError\u001b[0m\u001b[0;34m:\u001b[0m\u001b[0;34m\u001b[0m\u001b[0;34m\u001b[0m\u001b[0m\n",
      "\u001b[0;32m/opt/anaconda3/lib/python3.7/site-packages/matplotlib/projections/__init__.py\u001b[0m in \u001b[0;36mget_projection_class\u001b[0;34m(self, name)\u001b[0m\n\u001b[1;32m     24\u001b[0m         \"\"\"\n\u001b[0;32m---> 25\u001b[0;31m         \u001b[0;32mreturn\u001b[0m \u001b[0mself\u001b[0m\u001b[0;34m.\u001b[0m\u001b[0m_all_projection_types\u001b[0m\u001b[0;34m[\u001b[0m\u001b[0mname\u001b[0m\u001b[0;34m]\u001b[0m\u001b[0;34m\u001b[0m\u001b[0;34m\u001b[0m\u001b[0m\n\u001b[0m\u001b[1;32m     26\u001b[0m \u001b[0;34m\u001b[0m\u001b[0m\n",
      "\u001b[0;31mKeyError\u001b[0m: '3d'",
      "\nDuring handling of the above exception, another exception occurred:\n",
      "\u001b[0;31mValueError\u001b[0m                                Traceback (most recent call last)",
      "\u001b[0;32m<ipython-input-22-549f635e2149>\u001b[0m in \u001b[0;36m<module>\u001b[0;34m\u001b[0m\n\u001b[1;32m     24\u001b[0m \u001b[0;31m# Graficamos los parametros w con su respectivo costo en el eje de las x\u001b[0m\u001b[0;34m\u001b[0m\u001b[0;34m\u001b[0m\u001b[0;34m\u001b[0m\u001b[0m\n\u001b[1;32m     25\u001b[0m \u001b[0mfig\u001b[0m \u001b[0;34m=\u001b[0m \u001b[0mplt\u001b[0m\u001b[0;34m.\u001b[0m\u001b[0mfigure\u001b[0m\u001b[0;34m(\u001b[0m\u001b[0;34m)\u001b[0m\u001b[0;34m\u001b[0m\u001b[0;34m\u001b[0m\u001b[0m\n\u001b[0;32m---> 26\u001b[0;31m \u001b[0max\u001b[0m \u001b[0;34m=\u001b[0m \u001b[0mfig\u001b[0m\u001b[0;34m.\u001b[0m\u001b[0madd_subplot\u001b[0m\u001b[0;34m(\u001b[0m\u001b[0mprojection\u001b[0m\u001b[0;34m=\u001b[0m\u001b[0;34m'3d'\u001b[0m\u001b[0;34m)\u001b[0m\u001b[0;34m\u001b[0m\u001b[0;34m\u001b[0m\u001b[0m\n\u001b[0m\u001b[1;32m     27\u001b[0m \u001b[0max\u001b[0m\u001b[0;34m.\u001b[0m\u001b[0mscatter\u001b[0m\u001b[0;34m(\u001b[0m\u001b[0mw0_flat\u001b[0m\u001b[0;34m,\u001b[0m \u001b[0mw1_flat\u001b[0m\u001b[0;34m,\u001b[0m \u001b[0mcalc_cost\u001b[0m\u001b[0;34m)\u001b[0m\u001b[0;34m\u001b[0m\u001b[0;34m\u001b[0m\u001b[0m\n\u001b[1;32m     28\u001b[0m \u001b[0;34m\u001b[0m\u001b[0m\n",
      "\u001b[0;32m/opt/anaconda3/lib/python3.7/site-packages/matplotlib/figure.py\u001b[0m in \u001b[0;36madd_subplot\u001b[0;34m(self, *args, **kwargs)\u001b[0m\n\u001b[1;32m   1394\u001b[0m         \u001b[0;32melse\u001b[0m\u001b[0;34m:\u001b[0m\u001b[0;34m\u001b[0m\u001b[0;34m\u001b[0m\u001b[0m\n\u001b[1;32m   1395\u001b[0m             \u001b[0mprojection_class\u001b[0m\u001b[0;34m,\u001b[0m \u001b[0mkwargs\u001b[0m\u001b[0;34m,\u001b[0m \u001b[0mkey\u001b[0m \u001b[0;34m=\u001b[0m\u001b[0;31m \u001b[0m\u001b[0;31m\\\u001b[0m\u001b[0;34m\u001b[0m\u001b[0;34m\u001b[0m\u001b[0m\n\u001b[0;32m-> 1396\u001b[0;31m                 \u001b[0mself\u001b[0m\u001b[0;34m.\u001b[0m\u001b[0m_process_projection_requirements\u001b[0m\u001b[0;34m(\u001b[0m\u001b[0;34m*\u001b[0m\u001b[0margs\u001b[0m\u001b[0;34m,\u001b[0m \u001b[0;34m**\u001b[0m\u001b[0mkwargs\u001b[0m\u001b[0;34m)\u001b[0m\u001b[0;34m\u001b[0m\u001b[0;34m\u001b[0m\u001b[0m\n\u001b[0m\u001b[1;32m   1397\u001b[0m \u001b[0;34m\u001b[0m\u001b[0m\n\u001b[1;32m   1398\u001b[0m             \u001b[0;31m# try to find the axes with this key in the stack\u001b[0m\u001b[0;34m\u001b[0m\u001b[0;34m\u001b[0m\u001b[0;34m\u001b[0m\u001b[0m\n",
      "\u001b[0;32m/opt/anaconda3/lib/python3.7/site-packages/matplotlib/figure.py\u001b[0m in \u001b[0;36m_process_projection_requirements\u001b[0;34m(self, polar, projection, *args, **kwargs)\u001b[0m\n\u001b[1;32m   1118\u001b[0m \u001b[0;34m\u001b[0m\u001b[0m\n\u001b[1;32m   1119\u001b[0m         \u001b[0;32mif\u001b[0m \u001b[0misinstance\u001b[0m\u001b[0;34m(\u001b[0m\u001b[0mprojection\u001b[0m\u001b[0;34m,\u001b[0m \u001b[0mstr\u001b[0m\u001b[0;34m)\u001b[0m \u001b[0;32mor\u001b[0m \u001b[0mprojection\u001b[0m \u001b[0;32mis\u001b[0m \u001b[0;32mNone\u001b[0m\u001b[0;34m:\u001b[0m\u001b[0;34m\u001b[0m\u001b[0;34m\u001b[0m\u001b[0m\n\u001b[0;32m-> 1120\u001b[0;31m             \u001b[0mprojection_class\u001b[0m \u001b[0;34m=\u001b[0m \u001b[0mprojections\u001b[0m\u001b[0;34m.\u001b[0m\u001b[0mget_projection_class\u001b[0m\u001b[0;34m(\u001b[0m\u001b[0mprojection\u001b[0m\u001b[0;34m)\u001b[0m\u001b[0;34m\u001b[0m\u001b[0;34m\u001b[0m\u001b[0m\n\u001b[0m\u001b[1;32m   1121\u001b[0m         \u001b[0;32melif\u001b[0m \u001b[0mhasattr\u001b[0m\u001b[0;34m(\u001b[0m\u001b[0mprojection\u001b[0m\u001b[0;34m,\u001b[0m \u001b[0;34m'_as_mpl_axes'\u001b[0m\u001b[0;34m)\u001b[0m\u001b[0;34m:\u001b[0m\u001b[0;34m\u001b[0m\u001b[0;34m\u001b[0m\u001b[0m\n\u001b[1;32m   1122\u001b[0m             \u001b[0mprojection_class\u001b[0m\u001b[0;34m,\u001b[0m \u001b[0mextra_kwargs\u001b[0m \u001b[0;34m=\u001b[0m \u001b[0mprojection\u001b[0m\u001b[0;34m.\u001b[0m\u001b[0m_as_mpl_axes\u001b[0m\u001b[0;34m(\u001b[0m\u001b[0;34m)\u001b[0m\u001b[0;34m\u001b[0m\u001b[0;34m\u001b[0m\u001b[0m\n",
      "\u001b[0;32m/opt/anaconda3/lib/python3.7/site-packages/matplotlib/projections/__init__.py\u001b[0m in \u001b[0;36mget_projection_class\u001b[0;34m(projection)\u001b[0m\n\u001b[1;32m     58\u001b[0m         \u001b[0;32mreturn\u001b[0m \u001b[0mprojection_registry\u001b[0m\u001b[0;34m.\u001b[0m\u001b[0mget_projection_class\u001b[0m\u001b[0;34m(\u001b[0m\u001b[0mprojection\u001b[0m\u001b[0;34m)\u001b[0m\u001b[0;34m\u001b[0m\u001b[0;34m\u001b[0m\u001b[0m\n\u001b[1;32m     59\u001b[0m     \u001b[0;32mexcept\u001b[0m \u001b[0mKeyError\u001b[0m\u001b[0;34m:\u001b[0m\u001b[0;34m\u001b[0m\u001b[0;34m\u001b[0m\u001b[0m\n\u001b[0;32m---> 60\u001b[0;31m         \u001b[0;32mraise\u001b[0m \u001b[0mValueError\u001b[0m\u001b[0;34m(\u001b[0m\u001b[0;34m\"Unknown projection %r\"\u001b[0m \u001b[0;34m%\u001b[0m \u001b[0mprojection\u001b[0m\u001b[0;34m)\u001b[0m\u001b[0;34m\u001b[0m\u001b[0;34m\u001b[0m\u001b[0m\n\u001b[0m\u001b[1;32m     61\u001b[0m \u001b[0;34m\u001b[0m\u001b[0m\n\u001b[1;32m     62\u001b[0m \u001b[0;34m\u001b[0m\u001b[0m\n",
      "\u001b[0;31mValueError\u001b[0m: Unknown projection '3d'"
     ]
    },
    {
     "data": {
      "text/plain": [
       "<Figure size 432x288 with 0 Axes>"
      ]
     },
     "metadata": {},
     "output_type": "display_data"
    }
   ],
   "source": [
    "# Probaremos con 100x100 combinaciones de distintos parametros\n",
    "w0 = np.linspace(-10, 10, 100)\n",
    "w1 = np.linspace(-10, 10, 100)\n",
    "w0w0, w1w1 = np.meshgrid(w0, w1)\n",
    "w0_flat = w0w0.ravel()\n",
    "w1_flat = w1w1.ravel()\n",
    "W = np.stack([w0_flat, w1_flat], axis=0)\n",
    "\n",
    "\n",
    "# Calculamos la función de costo\n",
    "# TODO: calcula el costo de las predicciones (y_pred) contra etiquetas (y_train)\n",
    "# usando las 100x100 combindaciones de parametros (W)\n",
    "# ====== Start of solution =====\n",
    "calc_cost = np.zeros((100, 100))\n",
    "\n",
    "for index in range(100):\n",
    "    for subindex in range(100):\n",
    "        w = np.array([W[0, index], W[1, subindex]])\n",
    "        y_pred = np.dot(x_train, w)\n",
    "        calc_cost[index, subindex] = np.mean(np.square(y_train-y_pred))\n",
    "\n",
    "# ====== End of solution =====\n",
    "\n",
    "# Graficamos los parametros w con su respectivo costo en el eje de las x\n",
    "fig = plt.figure()\n",
    "ax = fig.add_subplot(projection='3d')\n",
    "ax.scatter(w0_flat, w1_flat, calc_cost)\n",
    "\n",
    "# TODO: Escribe a qué valor corresponde cada eje\n",
    "# ====== Start of solution =====\n",
    "ax.set_xlabel('w0')\n",
    "ax.set_ylabel('w1')\n",
    "ax.set_zlabel('costo')\n",
    "# ====== End of solution =====\n",
    "plt.show()"
   ]
  },
  {
   "cell_type": "code",
   "execution_count": 23,
   "metadata": {},
   "outputs": [
    {
     "data": {
      "image/png": "[encoded data removed]",
      "text/plain": [
       "<Figure size 432x288 with 1 Axes>"
      ]
     },
     "metadata": {
      "needs_background": "light"
     },
     "output_type": "display_data"
    }
   ],
   "source": [
    "# Podemos encontrar la combinación de pesos que minimizan el costo\n",
    "# Y de esta manera encontrar los pesos ideales\n",
    "best_idx = np.argmin(calc_cost)\n",
    "search_w0 = w0_flat[best_idx]\n",
    "search_w1 = w1_flat[best_idx]\n",
    "search_w = [[search_w0], [search_w1]] \n",
    "\n",
    "plt.scatter(X, target_y)\n",
    "# TODO: Grafica la línea de regresión generada por tu modelo search_w\n",
    "# Encima de las muestras dadas\n",
    "# ====== Start of solution =====\n",
    "pred_y = search_w[0]*X + search_w[1]\n",
    "\n",
    "# Grafica la línea de regresión\n",
    "plt.plot(X, pred_y, color='red')\n",
    "\n",
    "plt.xlabel('X')\n",
    "plt.ylabel('Y')\n",
    "plt.title('Pesos Ideales')\n",
    "\n",
    "plt.show()\n",
    "# ====== End of solution ====="
   ]
  },
  {
   "attachments": {},
   "cell_type": "markdown",
   "metadata": {},
   "source": [
    "En el código anterior evaluamos $100 \\times 100$ combinaciones de pesos posibles y encontramos los mejores pesos. En este caso solo tenemos 2 parametros que queremos estimar, por lo que encontrar la solución de esta manera es factible al tener que realizar alrededor de $100^2$ evaluaciones de la función. \n",
    "\n",
    "<b>TODO: Contesta las siguientes preguntas</b> \n",
    "- ¿Cuántas evaluaciones de la función de costo tendríamos que hacer si tuviéramos 4 parametros?\n",
    "- ¿Qué pasaría si tuviéramos 1 millon de parametros?\n",
    "\n",
    "Las redes neuronales tienen millones de parametros para hacer predicciones, por lo que encontrar la solución de esta manera no es factible. Se han encontrado formas más eficientes de encontrar la solución por ejemplo, a través de métodos iterativos. Uno de ellos es decenso de gradiente. Siguiendo la direccion contraria del gradiente del costo con respecto a los pesos, podemos encontrar los parámetros que <b>minimizan</b> la función de costo utilizando menos evaluaciones."
   ]
  },
  {
   "attachments": {},
   "cell_type": "markdown",
   "metadata": {},
   "source": [
    "## Descenso de gradiente\n",
    "En esta sección, optimizarás la función de regresión lineal a través de descenso de gradiente.\n",
    "La predicción de nuestro modelo está dada con la siguiente funcion:\n",
    "\n",
    "$ \\hat{Y}_i = w_0 + w_1 * x$\n",
    "\n",
    "$\\hat{Y} = \\mathbf{X}\\mathbf{w}$\n",
    "\n",
    "<!-- El gradiente de MSE con respecto a $w_0$ se calcula de la siguiente manera\n",
    "\n",
    "$ \\frac{\\partial J(w)}{\\partial w_0} = \\frac{\\partial J(w)}{\\partial \\hat{Y}_i} * \\frac{\\partial \\hat{Y}_i}{\\partial w_0}= \\frac{1}{n} \\sum_{i=1}^{n} (\\hat{Y}_i - Y_i) $\n",
    "\n",
    "El gradiente de MSE con respecto a $w_1$ se calcula de la siguiente manera\n",
    "\n",
    "$ \\frac{\\partial J(w)}{\\partial w_1} = \\frac{\\partial J(w)}{\\partial \\hat{Y}_i} * \\frac{\\partial \\hat{Y}_i}{\\partial w_1} = \\frac{1}{n} \\sum_{i=1}^{n} (\\hat{Y}_i - Y_i) * x_i $ -->\n",
    "\n",
    "Donde:\n",
    "- $\\hat{Y}_i \\in  \\hat{Y}$\n",
    "- $\\mathbf{Y} \\in \\mathbb{R}^{N}$\n",
    "- $\\mathbf{X} \\in  \\mathbb{R}^{N \\times D}$ en notación aumentada\n",
    "- $\\mathbf{w} \\in \\mathbb{R}^{D}$ en notación aumentada\n",
    "\n",
    "Como vimos en clase, el gradiente la función de costo con respecto a los pesos está dado por:\n",
    "\n",
    " $\\frac{\\partial J(\\mathbf{w})}{\\partial \\mathbf{w}} = -\\frac{1}{N}X^T\\epsilon$\n",
    "\n",
    " donde $\\epsilon=\\mathbf{Y}-\\mathbf{X}\\mathbf{w}$\n",
    "\n",
    " TODO: Completa el código necesario para aplicar descenso de gradiente durante n_iteraciones. Para ello realiza los siguientes pasos:\n",
    "- Calcula el valor de las predicciones $\\mathbf{Y}$\n",
    "- Calcula el gradiente de la función a optimizar $\\frac{\\partial J(\\mathbf{w})}{\\partial \\mathbf{w}}$\n",
    "- Actualiza los pesos con el gradiente $\\mathbf{w}^{i+1} = \\mathbf{w}^{i} - \\alpha \\frac{\\partial J(\\mathbf{w})}{\\partial \\mathbf{w}}$\n",
    "- Repite hasta optener el valor óptimo de $\\mathbf{w}$\n",
    "\n",
    "Es tiempo de programarlo en código"
   ]
  },
  {
   "cell_type": "code",
   "execution_count": null,
   "metadata": {},
   "outputs": [],
   "source": [
    "def gradient_descent(X, y, lr, N_iterations, w_start=np.array([0,0])):\n",
    "    \"\"\"\n",
    "    Entradas:\n",
    "    X: arreglo con los datos en notación aumentada X\n",
    "    y: vector de etiquetas\n",
    "    lr: ritmo de aprendizaje\n",
    "    N_iterations: cantidad de iteraciones de optimización\n",
    "    w_start: pesos iniciales\n",
    "        \n",
    "    Regresa:  \n",
    "    w_opt: pesos óptimos\n",
    "    cost_history: arreglo con el valor del costo para cada iteración\n",
    "    \"\"\"\n",
    "    m = X.shape[0]\n",
    "    \n",
    "    # initialize the coefficients\n",
    "    w=w_start\n",
    "    \n",
    "    for i in range(N_iterations):\n",
    "        # ====== Start of solution =====\n",
    "        # TODO: Calcula la predicción \n",
    "        hypothesis = ...\n",
    "\n",
    "        # TODO: Calcula el error\n",
    "\n",
    "\n",
    "        # TODO: Calcula el gradiente del MSE loss\n",
    "\n",
    "\n",
    "        # TODO: Actualiza los pesos\n",
    "\n",
    "        \n",
    "        # ====== End of solution =====\n",
    "        # Calculamos la función de costo y guardamos el resultado\n",
    "        loss = mse_loss(y, hypothesis)\n",
    "\n",
    "    print(f\"Total de evaluaciones {i}, el costo final fue {loss}\")\n",
    "    w_opt=w\n",
    "    return w_opt"
   ]
  },
  {
   "cell_type": "code",
   "execution_count": null,
   "metadata": {},
   "outputs": [],
   "source": [
    "from sklearn import linear_model\n",
    "# Parámetros de descenso de gradiente\n",
    "N_iterations = [50,60,80]\n",
    "\n",
    "# Pesos iniciales y ritmo de aprendizaje\n",
    "lr = 0.1  # Utiliza valores cercanos e.g. 0.05, 0.2 .. etc\n",
    "w_start = np.array([-400,0])\n",
    "w_start = np.expand_dims(w_start,-1)\n",
    "\n",
    "# (2.) - (4.) -> Variación de cantidad de iteraciones\n",
    "plt.figure(figsize=(7,7))\n",
    "plt.scatter(x_val[:,-1], y_val)\n",
    "for n_it in N_iterations:\n",
    "    # Entrenamos el modelo en el set de entrenamiento\n",
    "    w_opt = gradient_descent(x_train, y_train, lr, n_it, w_start)\n",
    "\n",
    "    # Visualizamos la predicción en el set de validación\n",
    "    prediction = x_val @ w_opt\n",
    "    plt.plot(x_val[:,-1], prediction, label = str(n_it)+\" Iteraciones de GD\", linewidth=3)\n",
    "\n",
    "# Obtener la solución analítica\n",
    "analitic_sol=linear_model.LinearRegression()\n",
    "analitic_sol.fit(x_train, y_train)\n",
    "\n",
    "# Visualizar solución analitica\n",
    "plt.plot(x_val[:,-1], analitic_sol.predict(x_val),label = 'Solución analítica', linewidth=1, linestyle=\"dashed\", color=\"black\")\n",
    "# plt.ylim(bottom=-10)\n",
    "plt.legend()\n",
    "plt.show()"
   ]
  },
  {
   "attachments": {},
   "cell_type": "markdown",
   "metadata": {},
   "source": [
    "<b>TODO: Contesta las siguientes preguntas</b> \n",
    "- ¿Cuántas evaluaciones de la función de costo se evaluaron para encontrar la solución con un $lr=0.1$? ¿Cómo se compara este número a la solución por busqueda exhaustiva? \n",
    "- ¿Qué pasa si cambiamos la tasa de aprendizaje (lr) a un valor dos veces grande?\n",
    "- ¿Qué pasa si cambiamos la tase de aprendizaje a un valor dos veces más chico?\n",
    "- ¿Qué pasa si cambiamos la tasa de aprendizaje (lr) por un valor muy grande?"
   ]
  }
 ],
 "metadata": {
  "kernelspec": {
   "display_name": "base",
   "language": "python",
   "name": "python3"
  },
  "language_info": {
   "codemirror_mode": {
    "name": "ipython",
    "version": 3
   },
   "file_extension": ".py",
   "mimetype": "text/x-python",
   "name": "python",
   "nbconvert_exporter": "python",
   "pygments_lexer": "ipython3",
   "version": "3.7.4"
  },
  "orig_nbformat": 4,
  "vscode": {
   "interpreter": {
    "hash": "40d3a090f54c6569ab1632332b64b2c03c39dcf918b08424e98f38b5ae0af88f"
   }
  }
 },
 "nbformat": 4,
 "nbformat_minor": 2
}
