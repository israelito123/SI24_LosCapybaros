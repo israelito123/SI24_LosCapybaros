{
 "cells": [
  {
   "cell_type": "markdown",
   "metadata": {},
   "source": [
    "# Lógica difusa: El problema de la propina\n",
    "\n",
    "En este ejercicio trabajaremos con la librería de [scikit-fuzzy](https://pythonhosted.org/scikit-fuzzy/), simulando el [problema de la propina](https://pythonhosted.org/scikit-fuzzy/auto_examples/plot_tipping_problem_newapi.html). Se busca determinar la cantiadad de propina adecuada a dar en un restaurant, en base a la calidad de la comida y servicio usando lógica difusa."
   ]
  },
  {
   "cell_type": "code",
   "execution_count": null,
   "metadata": {},
   "outputs": [],
   "source": [
    "# Importamos la librería de skfuzzy\n",
    "import numpy as np\n",
    "import skfuzzy as fuzz\n",
    "from skfuzzy import control as ctrl"
   ]
  },
  {
   "cell_type": "markdown",
   "metadata": {},
   "source": [
    "## 1. Definición de nuestras variables y funciones de membresía\n",
    "Comenzamos definiendo los rangos dentro de los cuales se calificará cada variable, así como las variables linguísticas que se usarán en las reglas"
   ]
  },
  {
   "cell_type": "code",
   "execution_count": null,
   "metadata": {},
   "outputs": [],
   "source": [
    "# Variables de entrada: antecedentes\n",
    "comida = ctrl.Antecedent(np.arange(0, 11, 1), 'comida')  # Arange es no inclusivo entonces se genera 0,1,2,...,10\n",
    "# TODO: Define el universo de las variables restantes\n",
    "servicio = ctrl.Antecedent(..., 'servicio')\n",
    "\n",
    "# Variables de salida: Consecuentes\n",
    "propina = ctrl.Consequent(..., 'propina')\n",
    "\n",
    "# Definimos valores linguísticos para cada variable\n",
    "comida.automf(3, \n",
    "               variable_type='quality',\n",
    "               names=['mala', 'normal', 'yummy'])\n",
    "servicio.automf(3,\n",
    "                variable_type='quality',\n",
    "                names=['pesimo', 'equis', 'super'])\n",
    "propina.automf(\n",
    "    3,\n",
    "    variable_type='quality',\n",
    "    names=['baja', 'normal', 'alta'])"
   ]
  },
  {
   "cell_type": "markdown",
   "metadata": {},
   "source": [
    "## Funciones de membresía\n",
    "Existen múltiples opciones para las funciones de membresía. Aquí mostramos las más comunes\n",
    "| Tipo de funcion | Metodo de skfuzzy | Argumentos                                           |\n",
    "|-----------------|-------------------|------------------------------------------------------|\n",
    "| Triangular      | trimf             | 3 puntos dentro del rango para definir el tríángulo  |\n",
    "| Trapezoide      | trapmf            | 4 puntos dentro del rango para definir el trapezoide |\n",
    "| Gaussiana       | gaussmf           | Media y desviación estándar                          |\n",
    "| Sigmoide        | sigmf             | Offset/sesgo y multiplicador de 'z'                  |"
   ]
  },
  {
   "cell_type": "markdown",
   "metadata": {},
   "source": [
    "### Calidad de la comida\n",
    "La calidad de la comida está definida dentro de un rango de 0 a 10\n",
    "```\n",
    "calidad = ctrl.Antecedent(np.arange(0, 11, 1), 'calidad') \n",
    "```\n",
    "Entonces definimos los puntos de los triángulos dentro de este rango"
   ]
  },
  {
   "cell_type": "code",
   "execution_count": null,
   "metadata": {},
   "outputs": [],
   "source": [
    "# Funciones de membresía : triangulares\n",
    "# TODO: Define las funciones de membresía\n",
    "comida['mala'] = fuzz.trimf(comida.universe, [0, 0, 6]) # Defines tres puntos para cada triangulo\n",
    "comida['normal'] = ...\n",
    "comida['yummy'] = f...\n",
    "comida.view()"
   ]
  },
  {
   "cell_type": "markdown",
   "metadata": {},
   "source": [
    "### Calidad del servicio\n",
    "La calidad del servicio está definida dentro de un rango de 0 a 10\n",
    "```\n",
    "servicio = ctrl.Antecedent(np.arange(0, 11, 1), 'servicio') \n",
    "```\n",
    "Entonces definimos los puntos de los trapezoides de acuerdo a este rango"
   ]
  },
  {
   "cell_type": "code",
   "execution_count": null,
   "metadata": {},
   "outputs": [],
   "source": [
    "# Funciones de membresía: Trapezoide\n",
    "# TODO: Define las funciones de membresía\n",
    "servicio['pesimo'] = fuzz.trapmf(servicio.universe, [0, 0, 3, 6]) # 4 puntos para un trapezoide\n",
    "servicio['equis'] = ...\n",
    "servicio['super'] = ...\n",
    "servicio.view()"
   ]
  },
  {
   "cell_type": "markdown",
   "metadata": {},
   "source": [
    "### Propina\n",
    "La proina está definida dentro de un rango de 0% a 20%\n",
    "```\n",
    "propina = ctrl.Consequent(np.arange(0, 21, 1), 'propina')\n",
    "```\n",
    "Entonces definimos los puntos de las distribuciones gaussianas de acuerdo a este rango"
   ]
  },
  {
   "cell_type": "code",
   "execution_count": null,
   "metadata": {},
   "outputs": [],
   "source": [
    "# Funciones de membresía: Gaussiana\n",
    "# TODO: Define las funciones de membresía\n",
    "propina['baja'] = fuzz.gaussmf(propina.universe, mean=0, sigma=3) # Defines la media y desviación estándar\n",
    "propina['normal'] = ...\n",
    "propina['alta'] = ...\n",
    "\n",
    "# Otra opción: Función sigmoide...\n",
    "# propina['baja'] = fuzz.sigmf(propina.universe, 1, 0.5) # Defines la media y desviación estándar\n",
    "# propina['normal'] = ...\n",
    "# propina['alta'] = f...\n",
    "propina.view()\n"
   ]
  },
  {
   "cell_type": "markdown",
   "metadata": {},
   "source": [
    "## 2. Definiendo el sistema de reglas\n",
    "En este ejercicio define tus propias reglas.. por ejemplo:\n",
    "1. Si el *servicio* es SUPER o la *comida* es YUMMY, entonces la *propina* es ALTA\n",
    "2. Si el *servicio* es EQUIS, entonces la *propina* es NORMAL\n",
    "3. Si el *servicio* es PÉSIMO y la *comida* es MALA, entonces la *propina* es BAJA\n",
    "\n",
    "Asegúrate de que exista solo un consecuente por regla y que todos los posibles conjuntos de salida se mencionen en al menos una regla"
   ]
  },
  {
   "cell_type": "code",
   "execution_count": null,
   "metadata": {},
   "outputs": [],
   "source": [
    "# TODO: Define las reglas, utiliza \"|\" para expresar el OR, \"~\" para el NOT,  y \"&\" para expresar el AND\n",
    "regla1 = ctrl.Rule(servicio['super'] | comida['yummy'], propina['alta'])\n",
    "regla2 = ...\n",
    "regla3 = ...\n",
    "\n",
    "regla2.view()"
   ]
  },
  {
   "cell_type": "markdown",
   "metadata": {},
   "source": [
    "# 3. Inferencia y control\n",
    "Ahora que tenemos todo, definimos el sistema de control. Para eso tenemos que crear un simulador de sistema de control `ControlSystemSimulation`. Este objeto representa un controlador aplicado a un conjunto de circunstancias específicas."
   ]
  },
  {
   "cell_type": "code",
   "execution_count": null,
   "metadata": {},
   "outputs": [],
   "source": [
    "control_propina = ctrl.ControlSystem([regla1, regla2, regla3])\n",
    "dar_propina = ctrl.ControlSystemSimulation(control_propina)\n",
    "\n",
    "# Definimos las variables crisp\n",
    "# TODO: ¿Cuanto calificarías el servicio y comida de algún restaurante?\n",
    "dar_propina.input['servicio'] = ??\n",
    "dar_propina.input['comida'] = ??\n",
    "\n",
    "# Se realiza la inferencia\n",
    "dar_propina.compute()\n",
    "print(dar_propina.output['propina'])\n",
    "propina.view(sim=dar_propina)"
   ]
  }
 ],
 "metadata": {
  "kernelspec": {
   "display_name": "ml_env",
   "language": "python",
   "name": "python3"
  },
  "language_info": {
   "codemirror_mode": {
    "name": "ipython",
    "version": 3
   },
   "file_extension": ".py",
   "mimetype": "text/x-python",
   "name": "python",
   "nbconvert_exporter": "python",
   "pygments_lexer": "ipython3",
   "version": "3.9.17"
  }
 },
 "nbformat": 4,
 "nbformat_minor": 2
}
