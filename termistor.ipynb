{
 "cells": [
  {
   "attachments": {},
   "cell_type": "markdown",
   "metadata": {},
   "source": [
    "# Modelo de un termistor\n",
    "En esta hoja de ejercicios, calcularás el modelo de un termistor en base 3 mediciones reales de valores conocidos. Específicamente:\n",
    "\n",
    "1. Convertiras entre unidades de temperaturas\n",
    "2. Definirás el sistema de ecuaciones usando tres mediciones\n",
    "3. Resolverás dicho sistema utilizando la librería de numpy para encontrar las constantes del termistor.\n",
    "4. Visualizarás la curva de calibración de tu termistor usando matplotlib\n",
    "\n",
    "### 1. Conversión de temperatura\n",
    "Completa los métodos para transformar grados celsius a kelvin y viceversa"
   ]
  },
  {
   "cell_type": "code",
   "execution_count": 55,
   "metadata": {},
   "outputs": [],
   "source": [
    "import numpy as np\n",
    "import matplotlib.pyplot as plt\n",
    "import math as mt"
   ]
  },
  {
   "cell_type": "code",
   "execution_count": 56,
   "metadata": {},
   "outputs": [],
   "source": [
    "# Conversion de temperatura\n",
    "def k_to_c(k):\n",
    "    '''\n",
    "        Regresa la temperatura en grados celcius para un valor de entrada en grados kelvin.\n",
    "        args:\n",
    "            - k (float): Temperatura en grados kelvin\n",
    "        returns:\n",
    "            - c (float): Temperatura en grados celsius\n",
    "    '''\n",
    "    # TODO: Regresa la temperatura en grados celsius\n",
    "    c = k - 273.15\n",
    "\n",
    "    return c\n",
    "\n",
    "def c_to_k(c):\n",
    "    '''\n",
    "        Regresa la temperatura en grados kelvin para un valor de entrada en grados celsius.\n",
    "        args:\n",
    "            - c (float): Temperatura en grados kelvin\n",
    "        returns:\n",
    "            - k (float): Temperatura en grados celsius\n",
    "    '''\n",
    "    # TODO: Regresa la temperatura en grados kelvin\n",
    "    k = c + 273.15\n",
    "\n",
    "    return k"
   ]
  },
  {
   "attachments": {},
   "cell_type": "markdown",
   "metadata": {},
   "source": [
    "### 2. Modelado del sistema\n",
    "\n",
    "En clase se les pidio medir la resistencia del termistor para 3 valores conocidos de temperatura. En la sección de la siguiente celda, escribe la resistencia del termistor para los tres valores de temperatura que hayas elegido. Puedes ver un ejemplo de como definir las ecuaciones debajo"
   ]
  },
  {
   "cell_type": "code",
   "execution_count": 57,
   "metadata": {},
   "outputs": [],
   "source": [
    "# Definimos nuestros valores conocidos como (Temperatura en K, resistencia en Ohm)\n",
    "# Por ejemplo, si el termistor midió 16000 Ohms a 0 grados celsius, escribirias:\n",
    "# eq1 = [c_to_k(0), 16000]\n",
    "\n",
    "# TODO: Indica los valores de resistencia y temperatura que hasya medido\n",
    "eq1 = [c_to_k(0), 30000]\n",
    "eq2 = [c_to_k(30), 8450]\n",
    "eq3 = [c_to_k(100), 2830]"
   ]
  },
  {
   "attachments": {},
   "cell_type": "markdown",
   "metadata": {},
   "source": [
    "### 3. Constantes del termistor\n",
    "Como vimos en clase, podemos modelar el funcionamiento de un termistor utilizando la ecuación:\n",
    "\n",
    "$\\frac{1}{T} = A + B \\ln(R) + C(\\ln R)^3$\n",
    "\n",
    "Y para encontrar las constantes necesitamos definir y resolver un sistema de ecuaciones utilizando tres pares de valores conocidos para $T$ y $R$. Por lo anteior utilizaremos mediciones que has hecho\n",
    "\n",
    "En la siguiente celda, define una matriz de numpy de la forma:\n",
    "\n",
    "$X  = \\left[  \\begin{matrix} \n",
    "                1 & \\ln(R_1) & \\ln(R_1)^3\\\\\n",
    "                1 & \\ln(R_2) & \\ln(R_2)^3\\\\\n",
    "                1 & \\ln(R_3) & \\ln(R_3)^3\\\\\n",
    "                \\end{matrix} \\right]\n",
    "    =\\left[  \\begin{matrix} \n",
    "                1 & \\ln(eq1[1]) & \\ln(eq1[1])^3\\\\\n",
    "                1 & \\ln(eq2[1]) & \\ln(eq2[1])^3\\\\\n",
    "                1 & \\ln(eq3[1]) & \\ln(eq3[1])^3\\\\\n",
    "                \\end{matrix} \\right]$\n",
    "\n",
    "Donde las soluciones están dadas por\n",
    "\n",
    "$b  = \\left[  \\begin{matrix} \n",
    "                \\frac{1}{T_1} \\\\\n",
    "                \\frac{1}{T_2} \\\\\n",
    "                \\frac{1}{T_3} \\\\\n",
    "                \\end{matrix}\\right]\n",
    "    =\\left[  \\begin{matrix} \n",
    "                \\frac{1}{eq1[0]} \\\\\n",
    "                \\frac{1}{eq2[0]} \\\\\n",
    "                \\frac{1}{eq3[0]} \\\\\n",
    "                \\end{matrix}\\right]$\n",
    "\n",
    "Recuerda que, como visto en clase, la temperatura de la ecuación del tersmistor debe estar en grados kelvin. Por lo tanto, asegúrate de que los valores que ingreses como solución se encuentren en esta unidad de medición.\n",
    "\n",
    "Finalmente, utiliza la función de numpy `np.linalg.solve(X,b)` para resolver el sistema de ecuaciones y encontrar las constantes del termistor A, B, C"
   ]
  },
  {
   "cell_type": "code",
   "execution_count": 58,
   "metadata": {},
   "outputs": [],
   "source": [
    "def solve(eq1, eq2, eq3):\n",
    "    '''\n",
    "        Calcula las constantes del termistor dados tres pares de (resistencia, temperatura) conocidos.\n",
    "        args:\n",
    "            - eq1(list): Contiene el valor de los grados en kelvin y el valor de la resistencia en ohms (eq1=[gradK, Ohms])\n",
    "            - eq2(list): Contiene el valor de los grados en kelvin y el valor de la resistencia en ohms (eq1=[gradK, Ohms])\n",
    "            - eq3(list): Contiene el valor de los grados en kelvin y el valor de la resistencia en ohms (eq1=[gradK, Ohms])\n",
    "        returns:\n",
    "            - constants(list): constantes del modelo del termistor constants=[a,b,c]\n",
    "    '''\n",
    "    # TODO: Define la matriz del sistema de ecuaciones a resolver X\n",
    "    unknown = np.array([[1, (np.log(eq1[1])), ((np.log(eq1[1]))**3)],\n",
    "                       [1, (np.log(eq2[1])), ((np.log(eq2[1]))**3)],\n",
    "                        [1, (np.log(eq3[1])), ((np.log(eq3[1]))**3)]])\n",
    "    # TODO: Define el vector de soluciones b\n",
    "    solutions = np.array([[1/(eq1[0])],\n",
    "                         [1/(eq2[0])],\n",
    "                         [1/(eq3[0])]])\n",
    "    # TODO: Resuelve el sistema de ecuaciones y regresa las constantes\n",
    "    return np.linalg.solve(unknown,solutions)"
   ]
  },
  {
   "attachments": {},
   "cell_type": "markdown",
   "metadata": {},
   "source": [
    "## 4. Curva de calibración\n",
    "Ahora que puedes calcular las constantes del termistor, utiliza la función anterior para modelar tu sensor usando la ecuación:\n",
    "\n",
    "$\\frac{1}{T} = A + B \\ln(R) + C(\\ln R)^3$\n",
    "\n",
    "Finalmente, grafíca tu función para diferentes valores de resistencia y analiza como se relaciona a lo visto en clase."
   ]
  },
  {
   "cell_type": "code",
   "execution_count": 59,
   "metadata": {},
   "outputs": [],
   "source": [
    "# Definir nuestro modelo en funcion de la resistencia y las constantes\n",
    "def modelo(resistance, a,b,c):\n",
    "    '''\n",
    "        Dada la resistencia del termistor y las constantes, calcula la temperatura en grados celsius que mide el sensor.\n",
    "        args:\n",
    "            - resistance (float): Resistencia en ohms\n",
    "            - a,b,c (float): constantes de la ecuación del termistor\n",
    "        returns:\n",
    "            - celsius (float): temperatura en grados celsius que mide el termistor\n",
    "    '''\n",
    "    # TODO: implementa la ecuación del termistor usando las constantes dadas\n",
    "    # y calcula el valor de la temperatura en celsius\n",
    "    # Recuerda que la ecuación del termistor considera la temperatura en grados Kelvin\n",
    "    # Puedes utilizar la función anteriormente definida\n",
    "    # para convertir grados kelvin a celsius k_to_c(gradK)\n",
    "    T = 1/(a + b*np.log(resistance) + c*mt.pow(np.log(resistance),3))\n",
    "    celsius = k_to_c(T)\n",
    "    return celsius"
   ]
  },
  {
   "attachments": {},
   "cell_type": "markdown",
   "metadata": {},
   "source": [
    "Una vez definidas todas funciones, podemos visualizar la curva de calibración del sensor. La siguiente celda llama al método que anteriormente definiste para resolver el sistema de ecuaciones y calcula la temperatura para tres valores de resistencia desconocidos. \n",
    "\n",
    "Esto nos sirve para ver como podríamos predecir temperaturas nuevas usando nuestro sensor."
   ]
  },
  {
   "cell_type": "code",
   "execution_count": 60,
   "metadata": {},
   "outputs": [
    {
     "name": "stdout",
     "output_type": "stream",
     "text": [
      "Constantes: [-0.00711616] [0.00150672] [-4.34063392e-06]\n",
      "Temp para 4000 Ohms -> [71.19919984]\n",
      "Temp para 6000 Ohms -> [45.96248993]\n",
      "Temp para 1000 Ohms -> [264.16361901]\n",
      "Temp para 5000 Ohms -> [56.34730511]\n"
     ]
    }
   ],
   "source": [
    "# Buscamos la solucion e imprimimos las constantes\n",
    "a,b,c = solve(eq1, eq2, eq3)\n",
    "print(\"Constantes:\", a,b,c)\n",
    "\n",
    "# Probamos el modelo para valores conocidos\n",
    "res_values = [4000, 6000, 1000, 5000]\n",
    "for x in res_values:\n",
    "    print(\"Temp para %d Ohms ->\" % x, modelo(x,a,b,c))"
   ]
  },
  {
   "attachments": {},
   "cell_type": "markdown",
   "metadata": {},
   "source": [
    "Finalmente, visualiza la curva de calibración llamando a tu método para obtener la temperatura correspondiente a diferentes valores de resistencia y graficando los datos usando matplotlib"
   ]
  },
  {
   "cell_type": "code",
   "execution_count": 61,
   "metadata": {},
   "outputs": [
    {
     "name": "stderr",
     "output_type": "stream",
     "text": [
      "C:\\Users\\israe\\AppData\\Local\\Temp\\ipykernel_10264\\2995751975.py:16: RuntimeWarning: divide by zero encountered in log\n",
      "  T = 1/(a + b*np.log(resistance) + c*mt.pow(np.log(resistance),3))\n",
      "C:\\Users\\israe\\AppData\\Local\\Temp\\ipykernel_10264\\2995751975.py:16: RuntimeWarning: invalid value encountered in add\n",
      "  T = 1/(a + b*np.log(resistance) + c*mt.pow(np.log(resistance),3))\n"
     ]
    },
    {
     "data": {
      "image/png": "[encoded data removed]",
      "text/plain": [
       "<Figure size 800x400 with 1 Axes>"
      ]
     },
     "metadata": {},
     "output_type": "display_data"
    }
   ],
   "source": [
    "# Visualizamos el modelo para multiples valores\n",
    "fig, ax = plt.subplots(1,1, figsize=(8,4))\n",
    "\n",
    "# calcular valores\n",
    "res_values = np.linspace(0, 16000, 1000)\n",
    "temp = [modelo(res,a,b,c) for res in res_values]\n",
    "\n",
    "\n",
    "# Graficar\n",
    "x_ticks = np.arange(0, 100, step=10)\n",
    "ax.set_xticks(x_ticks)\n",
    "\n",
    "# TODO: Grafica la temperatura en el eje de las x y los valores de resistencia en el eje de las y\n",
    "# =========== Start solution ============\n",
    "ax.plot(temp,res_values)\n",
    "# =========== End solution ==============\n",
    "ax.set_xlabel(\"Temperatura grados C\")\n",
    "ax.set_ylabel(\"Resistencia (Ohms)\")\n",
    "ax.grid()\n",
    "plt.xlim([0, 100])\n",
    "plt.ylim([0, 16000])\n",
    "plt.show()"
   ]
  }
 ],
 "metadata": {
  "kernelspec": {
   "display_name": "sistemas_inteligentes",
   "language": "python",
   "name": "python3"
  },
  "language_info": {
   "codemirror_mode": {
    "name": "ipython",
    "version": 3
   },
   "file_extension": ".py",
   "mimetype": "text/x-python",
   "name": "python",
   "nbconvert_exporter": "python",
   "pygments_lexer": "ipython3",
   "version": "3.8.19"
  },
  "orig_nbformat": 4,
  "vscode": {
   "interpreter": {
    "hash": "90e4140b2e60f217aa413489f79b8cb2d030a4bc742884db65b9d8c2b5235a03"
   }
  }
 },
 "nbformat": 4,
 "nbformat_minor": 2
}
